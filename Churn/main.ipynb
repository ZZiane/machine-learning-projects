{
 "cells": [
  {
   "cell_type": "code",
   "execution_count": 1,
   "id": "495b8560-4220-4197-b343-0d7113a1acdf",
   "metadata": {},
   "outputs": [],
   "source": [
    "import pandas as pd\n",
    "from sklearn.compose import ColumnTransformer\n",
    "from sklearn.preprocessing import LabelEncoder, OneHotEncoder\n",
    "from sklearn.model_selection import train_test_split\n",
    "from sklearn.preprocessing import StandardScaler\n",
    "from keras.models import Sequential\n",
    "from keras.layers import Dense, Dropout\n",
    "import joblib\n"
   ]
  },
  {
   "cell_type": "code",
   "execution_count": 2,
   "id": "499c7b23-97ed-48e5-956e-33c3b68d3823",
   "metadata": {},
   "outputs": [
    {
     "data": {
      "text/plain": [
       "array(['Female', 'Female', 'Female', ..., 'Male', 'Male', 'Female'],\n",
       "      dtype=object)"
      ]
     },
     "execution_count": 2,
     "metadata": {},
     "output_type": "execute_result"
    }
   ],
   "source": [
    "dataset = pd.read_csv('dataset.csv')\n",
    "X = dataset.iloc[:, 3:13].values\n",
    "y = dataset.iloc[:,13].values\n",
    "X_train, X_testR, y_train, y_test = train_test_split(X, y, test_size=0.2, random_state=0)\n",
    "X[:,2]"
   ]
  },
  {
   "cell_type": "code",
   "execution_count": 5,
   "id": "03df826b-c6ac-459f-bda6-24c132c1e04b",
   "metadata": {},
   "outputs": [],
   "source": [
    "labelencoder = LabelEncoder()\n",
    "tr= labelencoder.fit_transform(X[:,1])\n",
    "X[:,1] = tr\n",
    "tr = labelencoder.fit_transform(X[:,2])\n",
    "X[:,2] = tr\n"
   ]
  },
  {
   "cell_type": "code",
   "execution_count": 6,
   "id": "de778347-9049-4f98-955d-94b0c8cdd36f",
   "metadata": {},
   "outputs": [
    {
     "data": {
      "text/plain": [
       "(1799, 10)"
      ]
     },
     "execution_count": 6,
     "metadata": {},
     "output_type": "execute_result"
    }
   ],
   "source": [
    "\n",
    "X.shape"
   ]
  },
  {
   "cell_type": "code",
   "execution_count": 7,
   "id": "58f1ad78-4a04-427c-a880-a4ac43641fda",
   "metadata": {},
   "outputs": [
    {
     "data": {
      "text/plain": [
       "(1439, 10)"
      ]
     },
     "execution_count": 7,
     "metadata": {},
     "output_type": "execute_result"
    }
   ],
   "source": [
    "X_train, X_test, y_train, y_test = train_test_split(X, y, test_size=0.2, random_state=0)\n",
    "sc = StandardScaler()\n",
    "X_train = sc.fit_transform(X_train)\n",
    "X_test = sc.transform(X_test)\n",
    "X_train.shape"
   ]
  },
  {
   "cell_type": "code",
   "execution_count": 8,
   "id": "d2931f93-6c8d-44cc-9a3a-b0013abf6338",
   "metadata": {},
   "outputs": [],
   "source": [
    "model = Sequential()\n",
    "model.add(Dense(units = 64, kernel_initializer = 'uniform', activation = 'relu', input_dim = 10))\n",
    "model.add(Dense(units = 32,  activation = 'relu'))\n",
    "model.add(Dense(units = 128, activation = 'elu'))\n",
    "model.add(Dense(units = 32,  activation = 'relu'))\n",
    "model.add(Dropout(0.25))\n",
    "model.add(Dense(units = 128,  activation = 'elu'))\n",
    "model.add(Dense(units = 8,  activation = 'elu'))\n",
    "model.add(Dense(units = 1, kernel_initializer = 'uniform', activation = 'sigmoid'))"
   ]
  },
  {
   "cell_type": "code",
   "execution_count": 9,
   "id": "96405e96-08be-4f6d-9e5a-558b6204de2e",
   "metadata": {},
   "outputs": [
    {
     "name": "stdout",
     "output_type": "stream",
     "text": [
      "Epoch 1/50\n",
      "12/12 [==============================] - 1s 3ms/step - loss: 0.6879 - accuracy: 0.7352\n",
      "Epoch 2/50\n",
      "12/12 [==============================] - 0s 3ms/step - loss: 0.6475 - accuracy: 0.7901\n",
      "Epoch 3/50\n",
      "12/12 [==============================] - 0s 3ms/step - loss: 0.5320 - accuracy: 0.7901\n",
      "Epoch 4/50\n",
      "12/12 [==============================] - 0s 1ms/step - loss: 0.4840 - accuracy: 0.7901\n",
      "Epoch 5/50\n",
      "12/12 [==============================] - 0s 2ms/step - loss: 0.4479 - accuracy: 0.7901\n",
      "Epoch 6/50\n",
      "12/12 [==============================] - 0s 2ms/step - loss: 0.4286 - accuracy: 0.7901\n",
      "Epoch 7/50\n",
      "12/12 [==============================] - 0s 2ms/step - loss: 0.4139 - accuracy: 0.7901\n",
      "Epoch 8/50\n",
      "12/12 [==============================] - 0s 2ms/step - loss: 0.4069 - accuracy: 0.8151\n",
      "Epoch 9/50\n",
      "12/12 [==============================] - 0s 2ms/step - loss: 0.3969 - accuracy: 0.8332\n",
      "Epoch 10/50\n",
      "12/12 [==============================] - 0s 3ms/step - loss: 0.3779 - accuracy: 0.8457\n",
      "Epoch 11/50\n",
      "12/12 [==============================] - 0s 3ms/step - loss: 0.3660 - accuracy: 0.8492\n",
      "Epoch 12/50\n",
      "12/12 [==============================] - 0s 3ms/step - loss: 0.3550 - accuracy: 0.8541\n",
      "Epoch 13/50\n",
      "12/12 [==============================] - 0s 2ms/step - loss: 0.3368 - accuracy: 0.8659\n",
      "Epoch 14/50\n",
      "12/12 [==============================] - 0s 2ms/step - loss: 0.3251 - accuracy: 0.8700\n",
      "Epoch 15/50\n",
      "12/12 [==============================] - 0s 1ms/step - loss: 0.3198 - accuracy: 0.8742\n",
      "Epoch 16/50\n",
      "12/12 [==============================] - 0s 2ms/step - loss: 0.3080 - accuracy: 0.8805\n",
      "Epoch 17/50\n",
      "12/12 [==============================] - 0s 2ms/step - loss: 0.2987 - accuracy: 0.8846\n",
      "Epoch 18/50\n",
      "12/12 [==============================] - 0s 2ms/step - loss: 0.2942 - accuracy: 0.8798\n",
      "Epoch 19/50\n",
      "12/12 [==============================] - 0s 2ms/step - loss: 0.2798 - accuracy: 0.8965\n",
      "Epoch 20/50\n",
      "12/12 [==============================] - 0s 3ms/step - loss: 0.2851 - accuracy: 0.8860\n",
      "Epoch 21/50\n",
      "12/12 [==============================] - 0s 3ms/step - loss: 0.2757 - accuracy: 0.8985\n",
      "Epoch 22/50\n",
      "12/12 [==============================] - 0s 3ms/step - loss: 0.2634 - accuracy: 0.9069\n",
      "Epoch 23/50\n",
      "12/12 [==============================] - 0s 3ms/step - loss: 0.2651 - accuracy: 0.9034\n",
      "Epoch 24/50\n",
      "12/12 [==============================] - 0s 2ms/step - loss: 0.2503 - accuracy: 0.9131\n",
      "Epoch 25/50\n",
      "12/12 [==============================] - 0s 2ms/step - loss: 0.2464 - accuracy: 0.9131\n",
      "Epoch 26/50\n",
      "12/12 [==============================] - 0s 3ms/step - loss: 0.2444 - accuracy: 0.9152\n",
      "Epoch 27/50\n",
      "12/12 [==============================] - 0s 2ms/step - loss: 0.2299 - accuracy: 0.9215\n",
      "Epoch 28/50\n",
      "12/12 [==============================] - 0s 2ms/step - loss: 0.2250 - accuracy: 0.9222\n",
      "Epoch 29/50\n",
      "12/12 [==============================] - 0s 2ms/step - loss: 0.2151 - accuracy: 0.9270\n",
      "Epoch 30/50\n",
      "12/12 [==============================] - 0s 3ms/step - loss: 0.2160 - accuracy: 0.9270\n",
      "Epoch 31/50\n",
      "12/12 [==============================] - 0s 3ms/step - loss: 0.2262 - accuracy: 0.9236\n",
      "Epoch 32/50\n",
      "12/12 [==============================] - 0s 2ms/step - loss: 0.2361 - accuracy: 0.9159\n",
      "Epoch 33/50\n",
      "12/12 [==============================] - 0s 2ms/step - loss: 0.2117 - accuracy: 0.9277\n",
      "Epoch 34/50\n",
      "12/12 [==============================] - 0s 3ms/step - loss: 0.1977 - accuracy: 0.9368\n",
      "Epoch 35/50\n",
      "12/12 [==============================] - 0s 3ms/step - loss: 0.1899 - accuracy: 0.9375\n",
      "Epoch 36/50\n",
      "12/12 [==============================] - 0s 3ms/step - loss: 0.1901 - accuracy: 0.9416\n",
      "Epoch 37/50\n",
      "12/12 [==============================] - 0s 3ms/step - loss: 0.1864 - accuracy: 0.9416\n",
      "Epoch 38/50\n",
      "12/12 [==============================] - 0s 3ms/step - loss: 0.1780 - accuracy: 0.9458\n",
      "Epoch 39/50\n",
      "12/12 [==============================] - 0s 3ms/step - loss: 0.1803 - accuracy: 0.9458\n",
      "Epoch 40/50\n",
      "12/12 [==============================] - 0s 2ms/step - loss: 0.1752 - accuracy: 0.9458\n",
      "Epoch 41/50\n",
      "12/12 [==============================] - 0s 3ms/step - loss: 0.1785 - accuracy: 0.9430\n",
      "Epoch 42/50\n",
      "12/12 [==============================] - 0s 3ms/step - loss: 0.1809 - accuracy: 0.9416\n",
      "Epoch 43/50\n",
      "12/12 [==============================] - 0s 3ms/step - loss: 0.1965 - accuracy: 0.9284\n",
      "Epoch 44/50\n",
      "12/12 [==============================] - 0s 2ms/step - loss: 0.1890 - accuracy: 0.9354\n",
      "Epoch 45/50\n",
      "12/12 [==============================] - 0s 3ms/step - loss: 0.1868 - accuracy: 0.9402\n",
      "Epoch 46/50\n",
      "12/12 [==============================] - 0s 3ms/step - loss: 0.1710 - accuracy: 0.9444\n",
      "Epoch 47/50\n",
      "12/12 [==============================] - 0s 3ms/step - loss: 0.1883 - accuracy: 0.9368\n",
      "Epoch 48/50\n",
      "12/12 [==============================] - 0s 3ms/step - loss: 0.1962 - accuracy: 0.9333\n",
      "Epoch 49/50\n",
      "12/12 [==============================] - 0s 3ms/step - loss: 0.1804 - accuracy: 0.9382\n",
      "Epoch 50/50\n",
      "12/12 [==============================] - 0s 3ms/step - loss: 0.1654 - accuracy: 0.9451\n"
     ]
    },
    {
     "data": {
      "text/plain": [
       "<keras.callbacks.History at 0x24b73d1dc00>"
      ]
     },
     "execution_count": 9,
     "metadata": {},
     "output_type": "execute_result"
    }
   ],
   "source": [
    "model.compile(loss='binary_crossentropy', optimizer='adam', metrics=['accuracy'])\n",
    "model.fit(X_train, y_train, batch_size = 124, epochs = 50)"
   ]
  },
  {
   "cell_type": "code",
   "execution_count": 10,
   "id": "deb27905-cfe7-4791-89dd-72a14f10da6d",
   "metadata": {},
   "outputs": [
    {
     "data": {
      "text/plain": [
       "['resources/scaler.pkl']"
      ]
     },
     "execution_count": 10,
     "metadata": {},
     "output_type": "execute_result"
    }
   ],
   "source": [
    "model.save('resources/churn1.h5')\n",
    "joblib.dump(sc, 'resources/scaler.pkl')"
   ]
  },
  {
   "cell_type": "code",
   "execution_count": 11,
   "id": "5153440c-402a-462a-b302-ae29b03e2dc2",
   "metadata": {
    "tags": []
   },
   "outputs": [
    {
     "name": "stdout",
     "output_type": "stream",
     "text": [
      "[646 'Germany' 'Male' 39 9 111574.41 1 1 1 30838.51]\n",
      "1/1 [==============================] - 0s 89ms/step\n",
      "[['No churn']]\n"
     ]
    }
   ],
   "source": [
    "from keras.models import load_model\n",
    "import numpy as np\n",
    "sc = joblib.load('resources/scaler.pkl')\n",
    "model = load_model('resources/churn1.h5')\n",
    "\n",
    "\n",
    "print(X_testR[0])\n",
    "\n",
    "pred = model.predict(np.array([X_test[0]]))\n",
    "pred = np.where(pred > 0.5, \"Churn\", \"No churn\")\n",
    "print(pred)"
   ]
  },
  {
   "cell_type": "code",
   "execution_count": 12,
   "id": "23823fe7-248b-40cc-9998-82fe27da9e24",
   "metadata": {},
   "outputs": [
    {
     "name": "stdout",
     "output_type": "stream",
     "text": [
      "(10,)\n",
      "1/1 [==============================] - 0s 65ms/step\n",
      "[['No churn']]\n"
     ]
    }
   ],
   "source": [
    "model = load_model('resources/churn1.h5')\n",
    "print(X_testR[0].shape)\n",
    "#CreditScore,Geography,Gender,Age,Tenure,Balance,NumOfProducts,HasCrCard,IsActiveMember,EstimatedSalary\n",
    "test =  np.array([[608, 'France', 'Female', 36, 10, 131632.41,1, 1, 2, 80000]]);\n",
    "labelencoder_X_1 = LabelEncoder()\n",
    "test[:,1] = labelencoder_X_1.fit_transform(test[:,1])\n",
    "labelencoder_X_2 = LabelEncoder()\n",
    "test[:,2] = labelencoder_X_2.fit_transform(test[:,2])\n",
    "ct = ColumnTransformer([(\"Pays\", OneHotEncoder(), [1])], remainder = 'passthrough')\n",
    "test = ct.fit_transform(test)\n",
    "sc = StandardScaler()\n",
    "test = sc.fit_transform(test)\n",
    "pred = model.predict(test)\n",
    "pred = np.where(pred > 0.5, \"Churn\", \"No churn\")\n",
    "print(pred)"
   ]
  },
  {
   "cell_type": "code",
   "execution_count": null,
   "id": "84538c16-2487-41f1-89d0-73c757762a18",
   "metadata": {},
   "outputs": [],
   "source": []
  }
 ],
 "metadata": {
  "kernelspec": {
   "display_name": "Python 3 (ipykernel)",
   "language": "python",
   "name": "python3"
  },
  "language_info": {
   "codemirror_mode": {
    "name": "ipython",
    "version": 3
   },
   "file_extension": ".py",
   "mimetype": "text/x-python",
   "name": "python",
   "nbconvert_exporter": "python",
   "pygments_lexer": "ipython3",
   "version": "3.10.6"
  }
 },
 "nbformat": 4,
 "nbformat_minor": 5
}
