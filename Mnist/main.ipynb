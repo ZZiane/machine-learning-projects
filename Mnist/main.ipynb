{
 "cells": [
  {
   "cell_type": "code",
   "execution_count": 25,
   "id": "db2b73d1-4714-402f-85dc-7f465233a9ed",
   "metadata": {
    "tags": []
   },
   "outputs": [],
   "source": [
    "from keras.models import Sequential\n",
    "from keras.layers import Dense, Dropout\n",
    "from keras.utils import normalize,to_categorical\n",
    "from keras.datasets import mnist\n"
   ]
  },
  {
   "cell_type": "code",
   "execution_count": 29,
   "id": "5d273379-8c3b-4f76-94b0-3efda89591fa",
   "metadata": {
    "tags": []
   },
   "outputs": [],
   "source": [
    "(x_train, y_train), (x_test, y_test) = mnist.load_data()\n",
    "x_test_img = x_test\n",
    "x_train = normalize(x_train , axis = 1)\n",
    "x_test = normalize(x_test , axis=1) \n",
    "y_train = to_categorical(y_train, 10)\n",
    "y_test = to_categorical(y_test, 10)"
   ]
  },
  {
   "cell_type": "code",
   "execution_count": 27,
   "id": "99fbe896-be3a-4520-83ca-b774f53a66d8",
   "metadata": {
    "tags": []
   },
   "outputs": [],
   "source": [
    "x_train = x_train / 255.0\n",
    "x_test = x_test / 255.0\n",
    "x_train = x_train.reshape(x_train.shape[0], -1)\n",
    "x_test = x_test.reshape(x_test.shape[0], -1)"
   ]
  },
  {
   "cell_type": "code",
   "execution_count": 10,
   "id": "21488776-cebd-4d52-85be-9d0915a73aa7",
   "metadata": {
    "tags": []
   },
   "outputs": [
    {
     "name": "stdout",
     "output_type": "stream",
     "text": [
      "Epoch 1/100\n",
      "118/118 [==============================] - 7s 43ms/step - loss: 2.3011 - accuracy: 0.1117\n",
      "Epoch 2/100\n",
      "118/118 [==============================] - 5s 40ms/step - loss: 2.3001 - accuracy: 0.1132\n",
      "Epoch 3/100\n",
      "118/118 [==============================] - 3s 27ms/step - loss: 2.2956 - accuracy: 0.1230\n",
      "Epoch 4/100\n",
      "118/118 [==============================] - 3s 27ms/step - loss: 2.1951 - accuracy: 0.2162\n",
      "Epoch 5/100\n",
      "118/118 [==============================] - 3s 26ms/step - loss: 1.6592 - accuracy: 0.4253\n",
      "Epoch 6/100\n",
      "118/118 [==============================] - 3s 26ms/step - loss: 1.2938 - accuracy: 0.5292\n",
      "Epoch 7/100\n",
      "118/118 [==============================] - 3s 26ms/step - loss: 1.1742 - accuracy: 0.5749\n",
      "Epoch 8/100\n",
      "118/118 [==============================] - 3s 26ms/step - loss: 1.0949 - accuracy: 0.6097\n",
      "Epoch 9/100\n",
      "118/118 [==============================] - 3s 27ms/step - loss: 0.9681 - accuracy: 0.6668\n",
      "Epoch 10/100\n",
      "118/118 [==============================] - 3s 26ms/step - loss: 0.8279 - accuracy: 0.7206\n",
      "Epoch 11/100\n",
      "118/118 [==============================] - 3s 27ms/step - loss: 0.7525 - accuracy: 0.7514\n",
      "Epoch 12/100\n",
      "118/118 [==============================] - 3s 27ms/step - loss: 0.6972 - accuracy: 0.7777\n",
      "Epoch 13/100\n",
      "118/118 [==============================] - 3s 28ms/step - loss: 0.6496 - accuracy: 0.7974\n",
      "Epoch 14/100\n",
      "118/118 [==============================] - 3s 26ms/step - loss: 0.6169 - accuracy: 0.8099\n",
      "Epoch 15/100\n",
      "118/118 [==============================] - 3s 27ms/step - loss: 0.5766 - accuracy: 0.8234\n",
      "Epoch 16/100\n",
      "118/118 [==============================] - 3s 27ms/step - loss: 0.5458 - accuracy: 0.8360\n",
      "Epoch 17/100\n",
      "118/118 [==============================] - 3s 27ms/step - loss: 0.5105 - accuracy: 0.8449\n",
      "Epoch 18/100\n",
      "118/118 [==============================] - 3s 27ms/step - loss: 0.4834 - accuracy: 0.8558\n",
      "Epoch 19/100\n",
      "118/118 [==============================] - 3s 27ms/step - loss: 0.4597 - accuracy: 0.8637\n",
      "Epoch 20/100\n",
      "118/118 [==============================] - 3s 27ms/step - loss: 0.4332 - accuracy: 0.8704\n",
      "Epoch 21/100\n",
      "118/118 [==============================] - 3s 27ms/step - loss: 0.4166 - accuracy: 0.8753\n",
      "Epoch 22/100\n",
      "118/118 [==============================] - 3s 27ms/step - loss: 0.3951 - accuracy: 0.8838\n",
      "Epoch 23/100\n",
      "118/118 [==============================] - 3s 27ms/step - loss: 0.3757 - accuracy: 0.8892\n",
      "Epoch 24/100\n",
      "118/118 [==============================] - 3s 27ms/step - loss: 0.3578 - accuracy: 0.8954\n",
      "Epoch 25/100\n",
      "118/118 [==============================] - 3s 27ms/step - loss: 0.3433 - accuracy: 0.8996\n",
      "Epoch 26/100\n",
      "118/118 [==============================] - 3s 27ms/step - loss: 0.3253 - accuracy: 0.9048\n",
      "Epoch 27/100\n",
      "118/118 [==============================] - 3s 27ms/step - loss: 0.3107 - accuracy: 0.9093\n",
      "Epoch 28/100\n",
      "118/118 [==============================] - 3s 27ms/step - loss: 0.2955 - accuracy: 0.9133\n",
      "Epoch 29/100\n",
      "118/118 [==============================] - 3s 27ms/step - loss: 0.2825 - accuracy: 0.9182\n",
      "Epoch 30/100\n",
      "118/118 [==============================] - 3s 27ms/step - loss: 0.2702 - accuracy: 0.9209\n",
      "Epoch 31/100\n",
      "118/118 [==============================] - 3s 27ms/step - loss: 0.2616 - accuracy: 0.9239\n",
      "Epoch 32/100\n",
      "118/118 [==============================] - 3s 27ms/step - loss: 0.2488 - accuracy: 0.9279\n",
      "Epoch 33/100\n",
      "118/118 [==============================] - 3s 27ms/step - loss: 0.2390 - accuracy: 0.9302\n",
      "Epoch 34/100\n",
      "118/118 [==============================] - 3s 27ms/step - loss: 0.2292 - accuracy: 0.9322\n",
      "Epoch 35/100\n",
      "118/118 [==============================] - 3s 27ms/step - loss: 0.2223 - accuracy: 0.9354\n",
      "Epoch 36/100\n",
      "118/118 [==============================] - 3s 28ms/step - loss: 0.2149 - accuracy: 0.9370\n",
      "Epoch 37/100\n",
      "118/118 [==============================] - 3s 27ms/step - loss: 0.2064 - accuracy: 0.9402\n",
      "Epoch 38/100\n",
      "118/118 [==============================] - 3s 27ms/step - loss: 0.1991 - accuracy: 0.9426\n",
      "Epoch 39/100\n",
      "118/118 [==============================] - 3s 27ms/step - loss: 0.1927 - accuracy: 0.9435\n",
      "Epoch 40/100\n",
      "118/118 [==============================] - 3s 27ms/step - loss: 0.1845 - accuracy: 0.9467\n",
      "Epoch 41/100\n",
      "118/118 [==============================] - 3s 27ms/step - loss: 0.1822 - accuracy: 0.9470\n",
      "Epoch 42/100\n",
      "118/118 [==============================] - 3s 27ms/step - loss: 0.1754 - accuracy: 0.9490\n",
      "Epoch 43/100\n",
      "118/118 [==============================] - 3s 27ms/step - loss: 0.1701 - accuracy: 0.9508\n",
      "Epoch 44/100\n",
      "118/118 [==============================] - 3s 27ms/step - loss: 0.1649 - accuracy: 0.9515\n",
      "Epoch 45/100\n",
      "118/118 [==============================] - 3s 27ms/step - loss: 0.1601 - accuracy: 0.9521\n",
      "Epoch 46/100\n",
      "118/118 [==============================] - 3s 27ms/step - loss: 0.1567 - accuracy: 0.9542\n",
      "Epoch 47/100\n",
      "118/118 [==============================] - 3s 27ms/step - loss: 0.1494 - accuracy: 0.9560\n",
      "Epoch 48/100\n",
      "118/118 [==============================] - 3s 27ms/step - loss: 0.1469 - accuracy: 0.9572\n",
      "Epoch 49/100\n",
      "118/118 [==============================] - 3s 27ms/step - loss: 0.1456 - accuracy: 0.9579\n",
      "Epoch 50/100\n",
      "118/118 [==============================] - 3s 27ms/step - loss: 0.1400 - accuracy: 0.9589\n",
      "Epoch 51/100\n",
      "118/118 [==============================] - 3s 28ms/step - loss: 0.1355 - accuracy: 0.9600\n",
      "Epoch 52/100\n",
      "118/118 [==============================] - 3s 27ms/step - loss: 0.1358 - accuracy: 0.9605\n",
      "Epoch 53/100\n",
      "118/118 [==============================] - 3s 27ms/step - loss: 0.1306 - accuracy: 0.9609\n",
      "Epoch 54/100\n",
      "118/118 [==============================] - 3s 27ms/step - loss: 0.1272 - accuracy: 0.9625\n",
      "Epoch 55/100\n",
      "118/118 [==============================] - 3s 27ms/step - loss: 0.1252 - accuracy: 0.9626\n",
      "Epoch 56/100\n",
      "118/118 [==============================] - 3s 27ms/step - loss: 0.1223 - accuracy: 0.9640\n",
      "Epoch 57/100\n",
      "118/118 [==============================] - 3s 28ms/step - loss: 0.1214 - accuracy: 0.9642\n",
      "Epoch 58/100\n",
      "118/118 [==============================] - 3s 27ms/step - loss: 0.1163 - accuracy: 0.9651\n",
      "Epoch 59/100\n",
      "118/118 [==============================] - 3s 27ms/step - loss: 0.1142 - accuracy: 0.9665\n",
      "Epoch 60/100\n",
      "118/118 [==============================] - 3s 28ms/step - loss: 0.1133 - accuracy: 0.9659\n",
      "Epoch 61/100\n",
      "118/118 [==============================] - 3s 27ms/step - loss: 0.1120 - accuracy: 0.9669\n",
      "Epoch 62/100\n",
      "118/118 [==============================] - 3s 27ms/step - loss: 0.1062 - accuracy: 0.9686\n",
      "Epoch 63/100\n",
      "118/118 [==============================] - 3s 28ms/step - loss: 0.1051 - accuracy: 0.9693\n",
      "Epoch 64/100\n",
      "118/118 [==============================] - 3s 23ms/step - loss: 0.1033 - accuracy: 0.9692\n",
      "Epoch 65/100\n",
      "118/118 [==============================] - 3s 24ms/step - loss: 0.1036 - accuracy: 0.9695\n",
      "Epoch 66/100\n",
      "118/118 [==============================] - 2s 21ms/step - loss: 0.0990 - accuracy: 0.9705\n",
      "Epoch 67/100\n",
      "118/118 [==============================] - 3s 22ms/step - loss: 0.0951 - accuracy: 0.9721\n",
      "Epoch 68/100\n",
      "118/118 [==============================] - 4s 31ms/step - loss: 0.0958 - accuracy: 0.9716\n",
      "Epoch 69/100\n",
      "118/118 [==============================] - 4s 30ms/step - loss: 0.0946 - accuracy: 0.9712\n",
      "Epoch 70/100\n",
      "118/118 [==============================] - 4s 32ms/step - loss: 0.0915 - accuracy: 0.9733\n",
      "Epoch 71/100\n",
      "118/118 [==============================] - 3s 28ms/step - loss: 0.0896 - accuracy: 0.9733\n",
      "Epoch 72/100\n",
      "118/118 [==============================] - 3s 28ms/step - loss: 0.0884 - accuracy: 0.9736\n",
      "Epoch 73/100\n",
      "118/118 [==============================] - 3s 28ms/step - loss: 0.0864 - accuracy: 0.9743\n",
      "Epoch 74/100\n",
      "118/118 [==============================] - 3s 26ms/step - loss: 0.0853 - accuracy: 0.9746\n",
      "Epoch 75/100\n",
      "118/118 [==============================] - 3s 28ms/step - loss: 0.0837 - accuracy: 0.9754\n",
      "Epoch 76/100\n",
      "118/118 [==============================] - 3s 27ms/step - loss: 0.0829 - accuracy: 0.9754\n",
      "Epoch 77/100\n",
      "118/118 [==============================] - 3s 27ms/step - loss: 0.0796 - accuracy: 0.9757\n",
      "Epoch 78/100\n",
      "118/118 [==============================] - 3s 27ms/step - loss: 0.0786 - accuracy: 0.9768\n",
      "Epoch 79/100\n",
      "118/118 [==============================] - 3s 27ms/step - loss: 0.0766 - accuracy: 0.9764\n",
      "Epoch 80/100\n",
      "118/118 [==============================] - 3s 27ms/step - loss: 0.0759 - accuracy: 0.9770\n",
      "Epoch 81/100\n",
      "118/118 [==============================] - 3s 27ms/step - loss: 0.0746 - accuracy: 0.9775\n",
      "Epoch 82/100\n",
      "118/118 [==============================] - 3s 22ms/step - loss: 0.0738 - accuracy: 0.9779\n",
      "Epoch 83/100\n",
      "118/118 [==============================] - 3s 29ms/step - loss: 0.0722 - accuracy: 0.9775\n",
      "Epoch 84/100\n",
      "118/118 [==============================] - 4s 30ms/step - loss: 0.0724 - accuracy: 0.9778\n",
      "Epoch 85/100\n",
      "118/118 [==============================] - 3s 28ms/step - loss: 0.0704 - accuracy: 0.9786\n",
      "Epoch 86/100\n",
      "118/118 [==============================] - 3s 29ms/step - loss: 0.0688 - accuracy: 0.9792\n",
      "Epoch 87/100\n",
      "118/118 [==============================] - 3s 28ms/step - loss: 0.0679 - accuracy: 0.9794\n",
      "Epoch 88/100\n",
      "118/118 [==============================] - 3s 29ms/step - loss: 0.0660 - accuracy: 0.9800\n",
      "Epoch 89/100\n",
      "118/118 [==============================] - 3s 29ms/step - loss: 0.0664 - accuracy: 0.9800\n",
      "Epoch 90/100\n",
      "118/118 [==============================] - 3s 29ms/step - loss: 0.0642 - accuracy: 0.9808\n",
      "Epoch 91/100\n",
      "118/118 [==============================] - 3s 29ms/step - loss: 0.0630 - accuracy: 0.9808\n",
      "Epoch 92/100\n",
      "118/118 [==============================] - 3s 24ms/step - loss: 0.0614 - accuracy: 0.9813\n",
      "Epoch 93/100\n",
      "118/118 [==============================] - 3s 24ms/step - loss: 0.0620 - accuracy: 0.9812\n",
      "Epoch 94/100\n",
      "118/118 [==============================] - 3s 26ms/step - loss: 0.0582 - accuracy: 0.9823\n",
      "Epoch 95/100\n",
      "118/118 [==============================] - 3s 28ms/step - loss: 0.0592 - accuracy: 0.9819\n",
      "Epoch 96/100\n",
      "118/118 [==============================] - 3s 26ms/step - loss: 0.0577 - accuracy: 0.9823\n",
      "Epoch 97/100\n",
      "118/118 [==============================] - 3s 25ms/step - loss: 0.0566 - accuracy: 0.9830\n",
      "Epoch 98/100\n",
      "118/118 [==============================] - 3s 27ms/step - loss: 0.0569 - accuracy: 0.9828\n",
      "Epoch 99/100\n",
      "118/118 [==============================] - 3s 28ms/step - loss: 0.0557 - accuracy: 0.9830\n",
      "Epoch 100/100\n",
      "118/118 [==============================] - 3s 29ms/step - loss: 0.0551 - accuracy: 0.9833\n"
     ]
    }
   ],
   "source": [
    "model = Sequential()\n",
    "model.add(Dense(units=512, input_shape=(784,), activation='relu'))\n",
    "model.add(Dense(256, activation='relu'))\n",
    "model.add(Dense(units=128, activation='relu'))\n",
    "model.add(Dropout(0.25))\n",
    "model.add(Dense(units=10, activation='softmax'))\n",
    "model.compile(loss='categorical_crossentropy', optimizer='rmsprop', metrics=['accuracy'])\n",
    "model.fit(x=x_train, y=y_train, batch_size=512, epochs=100)\n",
    "model.save('resources/mnist.h5')"
   ]
  },
  {
   "cell_type": "code",
   "execution_count": 3,
   "id": "222c11a4-f896-4223-82a0-765254a702fe",
   "metadata": {
    "tags": []
   },
   "outputs": [],
   "source": [
    "import numpy as np\n",
    "import cv2\n",
    "from keras.models import load_model"
   ]
  },
  {
   "cell_type": "code",
   "execution_count": 4,
   "id": "1cf3e992-05a4-4a4b-94ec-2ac7638d6fd5",
   "metadata": {
    "tags": []
   },
   "outputs": [],
   "source": [
    "model = load_model('resources/mnist.h5')\n"
   ]
  },
  {
   "cell_type": "code",
   "execution_count": 5,
   "id": "5596f75f-d990-4a6c-bc38-5babbd5c4abe",
   "metadata": {
    "tags": []
   },
   "outputs": [],
   "source": [
    "import matplotlib.pyplot as plt\n",
    "import numpy as np\n",
    "\n",
    "def predict_img(path):  \n",
    "        image = cv2.imread(path,cv2.IMREAD_GRAYSCALE)\n",
    "        image = cv2.resize(image, (28,28))\n",
    "        image = image.astype('float32')\n",
    "        plt.imshow(np.squeeze(image))\n",
    "        image = 255.0-image\n",
    "        image /= 255.0\n",
    "        image=image.reshape(1,-1)\n",
    "        pred = model.predict(image)\n",
    "        print('Prediction :::::> '+ str(np.argmax(pred)))"
   ]
  },
  {
   "cell_type": "code",
   "execution_count": 6,
   "id": "3c54968a-d163-4393-b3a5-847a3da7706a",
   "metadata": {
    "tags": []
   },
   "outputs": [
    {
     "name": "stdout",
     "output_type": "stream",
     "text": [
      "1/1 [==============================] - 0s 188ms/step\n",
      "Prediction :::::> 0\n"
     ]
    },
    {
     "data": {
      "image/png": "[encoded data removed]",
      "text/plain": [
       "<Figure size 640x480 with 1 Axes>"
      ]
     },
     "metadata": {},
     "output_type": "display_data"
    }
   ],
   "source": [
    "predict_img('images/zero.png')"
   ]
  },
  {
   "cell_type": "code",
   "execution_count": 7,
   "id": "50a16d5c-7f22-4464-b65d-45b43ff16057",
   "metadata": {},
   "outputs": [
    {
     "name": "stdout",
     "output_type": "stream",
     "text": [
      "1/1 [==============================] - 0s 78ms/step\n",
      "Prediction :::::> 5\n"
     ]
    },
    {
     "data": {
      "image/png": "[encoded data removed]",
      "text/plain": [
       "<Figure size 640x480 with 1 Axes>"
      ]
     },
     "metadata": {},
     "output_type": "display_data"
    }
   ],
   "source": [
    "predict_img('images/five.png')\n"
   ]
  },
  {
   "cell_type": "code",
   "execution_count": 8,
   "id": "a65c91d2-21e3-4e55-8a43-9a29c5e95f62",
   "metadata": {
    "tags": []
   },
   "outputs": [
    {
     "name": "stdout",
     "output_type": "stream",
     "text": [
      "1/1 [==============================] - 0s 40ms/step\n",
      "Prediction :::::> 3\n"
     ]
    },
    {
     "data": {
      "image/png": "[encoded data removed]",
      "text/plain": [
       "<Figure size 640x480 with 1 Axes>"
      ]
     },
     "metadata": {},
     "output_type": "display_data"
    }
   ],
   "source": [
    "predict_img('images/three.png')"
   ]
  },
  {
   "cell_type": "code",
   "execution_count": 9,
   "id": "c8bc84b3-71e2-4d9d-a55b-7d689d8b12a7",
   "metadata": {
    "tags": []
   },
   "outputs": [
    {
     "name": "stdout",
     "output_type": "stream",
     "text": [
      "1/1 [==============================] - 0s 36ms/step\n",
      "Prediction :::::> 1\n"
     ]
    },
    {
     "data": {
      "image/png": "[encoded data removed]",
      "text/plain": [
       "<Figure size 640x480 with 1 Axes>"
      ]
     },
     "metadata": {},
     "output_type": "display_data"
    }
   ],
   "source": [
    "predict_img('images/one.png')"
   ]
  },
  {
   "cell_type": "code",
   "execution_count": null,
   "id": "67fb0f70-7ebb-4b18-a309-350682c78f84",
   "metadata": {},
   "outputs": [],
   "source": []
  },
  {
   "cell_type": "code",
   "execution_count": null,
   "id": "4f4a7e17-d40b-4773-a938-a4da84dd4b6a",
   "metadata": {},
   "outputs": [],
   "source": []
  }
 ],
 "metadata": {
  "kernelspec": {
   "display_name": "Python 3 (ipykernel)",
   "language": "python",
   "name": "python3"
  },
  "language_info": {
   "codemirror_mode": {
    "name": "ipython",
    "version": 3
   },
   "file_extension": ".py",
   "mimetype": "text/x-python",
   "name": "python",
   "nbconvert_exporter": "python",
   "pygments_lexer": "ipython3",
   "version": "3.10.6"
  }
 },
 "nbformat": 4,
 "nbformat_minor": 5
}
