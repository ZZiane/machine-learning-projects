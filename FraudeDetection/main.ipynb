{
 "cells": [
  {
   "cell_type": "code",
   "execution_count": 1,
   "id": "e6da370d-d485-4524-a09c-2ef15b66d1cb",
   "metadata": {},
   "outputs": [],
   "source": [
    "import pandas as pd\n",
    "data=pd.read_csv(\"creditcard.csv\")\n",
    "X = data.iloc[:,1:30]\n",
    "y = data.iloc[:,30:31]"
   ]
  },
  {
   "cell_type": "code",
   "execution_count": 2,
   "id": "6d10aa52-7e7a-4856-bbe8-6d49403da7e3",
   "metadata": {
    "tags": []
   },
   "outputs": [],
   "source": [
    "import numpy as np\n",
    "from sklearn.model_selection import train_test_split\n",
    "from sklearn.preprocessing import StandardScaler\n",
    "X_train, X_test, y_train, y_test = train_test_split(X, y, test_size=0.2, random_state=0)\n",
    "sc = StandardScaler()\n",
    "X_train = sc.fit_transform(X_train)\n",
    "X_test = sc.transform(X_test)"
   ]
  },
  {
   "cell_type": "code",
   "execution_count": 10,
   "id": "13743345-0e42-4109-80c2-a8e6fba76e33",
   "metadata": {
    "tags": []
   },
   "outputs": [
    {
     "data": {
      "image/png": "[encoded data removed]",
      "text/plain": [
       "<Figure size 640x480 with 1 Axes>"
      ]
     },
     "metadata": {},
     "output_type": "display_data"
    }
   ],
   "source": [
    "import matplotlib.pyplot as plt\n",
    "nofraud = (len(data[data['Class'] == 1])/len(data))*100\n",
    "fraud =(len(data[data['Class'] == 0])/len(data))*100\n",
    "fraud_percentage = [nofraud,fraud]\n",
    "plt.pie(fraud_percentage,labels = ['Fraud','No Fraud'],autopct='%1.1f%%',startangle = 90,colors = ['#FFCCAA','#52F2FF'],\n",
    "       wedgeprops = {'edgecolor' : 'black','linewidth': 1,'antialiased' : True})\n",
    "plt.show()\n",
    "# le pourcentage de transaction fraudileuse enorme par rapport au non fraudileuse donc notre on risque trop d'avoir la sur charge"
   ]
  },
  {
   "cell_type": "code",
   "execution_count": 11,
   "id": "91824b12-c221-48b5-a940-e8eb642d8de5",
   "metadata": {
    "tags": []
   },
   "outputs": [],
   "source": [
    "from keras.models import Sequential\n",
    "from keras.layers import Dense, Dropout\n",
    "model = Sequential()\n",
    "model.add(Dense(units = 29, kernel_initializer = 'uniform', activation = 'relu', input_dim = 29))\n",
    "model.add(Dropout(0.7))\n",
    "model.add(Dense(units = 64, kernel_initializer = 'uniform', activation = 'relu'))\n",
    "model.add(Dropout(0.5))\n",
    "model.add(Dense(units = 16, kernel_initializer = 'uniform', activation = 'relu'))\n",
    "model.add(Dense(units = 1, kernel_initializer = 'uniform', activation = 'sigmoid'))"
   ]
  },
  {
   "cell_type": "code",
   "execution_count": 12,
   "id": "829fc705-22e2-4e51-8ddb-6060aae69836",
   "metadata": {
    "tags": []
   },
   "outputs": [
    {
     "name": "stdout",
     "output_type": "stream",
     "text": [
      "Epoch 1/10\n",
      "14241/14241 [==============================] - 23s 2ms/step - loss: 0.0112 - accuracy: 0.9982\n",
      "Epoch 2/10\n",
      "14241/14241 [==============================] - 30s 2ms/step - loss: 0.0064 - accuracy: 0.9983\n",
      "Epoch 3/10\n",
      "14241/14241 [==============================] - 28s 2ms/step - loss: 0.0065 - accuracy: 0.9983\n",
      "Epoch 4/10\n",
      "14241/14241 [==============================] - 25s 2ms/step - loss: 0.0062 - accuracy: 0.9983\n",
      "Epoch 5/10\n",
      "14241/14241 [==============================] - 25s 2ms/step - loss: 0.0065 - accuracy: 0.9984\n",
      "Epoch 6/10\n",
      "14241/14241 [==============================] - 32s 2ms/step - loss: 0.0062 - accuracy: 0.9984\n",
      "Epoch 7/10\n",
      "14241/14241 [==============================] - 28s 2ms/step - loss: 0.0062 - accuracy: 0.9985\n",
      "Epoch 8/10\n",
      "14241/14241 [==============================] - 26s 2ms/step - loss: 0.0067 - accuracy: 0.9987\n",
      "Epoch 9/10\n",
      "14241/14241 [==============================] - 25s 2ms/step - loss: 0.0057 - accuracy: 0.9992\n",
      "Epoch 10/10\n",
      "14241/14241 [==============================] - 28s 2ms/step - loss: 0.0052 - accuracy: 0.9993\n"
     ]
    },
    {
     "data": {
      "text/plain": [
       "<keras.callbacks.History at 0x2ae5664ba90>"
      ]
     },
     "execution_count": 12,
     "metadata": {},
     "output_type": "execute_result"
    }
   ],
   "source": [
    "model.compile(loss='binary_crossentropy', optimizer='adam', metrics=['accuracy'])\n",
    "model.fit(X_train, y_train, batch_size = 16, epochs = 10)"
   ]
  },
  {
   "cell_type": "code",
   "execution_count": 6,
   "id": "84a42425-996f-42d0-a96e-83f853cfdf2b",
   "metadata": {
    "tags": []
   },
   "outputs": [],
   "source": [
    "model.save('resources/frauddetection.h5')\n"
   ]
  },
  {
   "cell_type": "code",
   "execution_count": null,
   "id": "da5f9554-7a56-405c-8d47-bf5aa40abdba",
   "metadata": {
    "tags": []
   },
   "outputs": [],
   "source": []
  },
  {
   "cell_type": "code",
   "execution_count": null,
   "id": "a469dfac-5bd5-45bf-8ca2-98d473c1f3e6",
   "metadata": {},
   "outputs": [],
   "source": []
  }
 ],
 "metadata": {
  "kernelspec": {
   "display_name": "Python 3 (ipykernel)",
   "language": "python",
   "name": "python3"
  },
  "language_info": {
   "codemirror_mode": {
    "name": "ipython",
    "version": 3
   },
   "file_extension": ".py",
   "mimetype": "text/x-python",
   "name": "python",
   "nbconvert_exporter": "python",
   "pygments_lexer": "ipython3",
   "version": "3.10.6"
  }
 },
 "nbformat": 4,
 "nbformat_minor": 5
}
