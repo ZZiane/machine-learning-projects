{
 "cells": [
  {
   "cell_type": "code",
   "execution_count": 6,
   "id": "c2140cc3-0186-4ad2-8c7d-cf0ed7c41a63",
   "metadata": {
    "tags": []
   },
   "outputs": [],
   "source": [
    "import numpy as np\n",
    "import pandas as pd\n",
    "data=pd.read_csv(\"products.csv\",sep=\",\", encoding='latin-1')\n",
    "data = data.dropna()\n",
    "df = pd.DataFrame(data, columns=['Rate', 'Summary', 'Review'])\n",
    "df['Rate'] = df['Rate'].apply(lambda x: 0 if not x.isnumeric() else int(x))\n"
   ]
  },
  {
   "cell_type": "code",
   "execution_count": 7,
   "id": "65eb3b2b-2863-4e87-b9d5-3f2aa02c1c09",
   "metadata": {
    "tags": []
   },
   "outputs": [],
   "source": [
    "from tensorflow.keras.preprocessing.text import Tokenizer\n",
    "from tensorflow.keras.preprocessing.sequence import pad_sequences\n",
    "tokenizer = Tokenizer()\n",
    "tokenizer.fit_on_texts(df['Summary'])\n",
    "vocab_size = len(tokenizer.word_index) + 1\n",
    "sequences = tokenizer.texts_to_sequences(df['Summary'])\n",
    "max_sequence_length1 = max([len(seq) for seq in sequences])\n",
    "X_s = pad_sequences(sequences, maxlen=max_sequence_length1)"
   ]
  },
  {
   "cell_type": "code",
   "execution_count": 8,
   "id": "d530e778-72ac-443d-8272-f703fee857e1",
   "metadata": {
    "tags": []
   },
   "outputs": [],
   "source": [
    "tokenizer = Tokenizer()\n",
    "tokenizer.fit_on_texts(df['Review'])\n",
    "vocab_size = len(tokenizer.word_index) + 1\n",
    "sequences = tokenizer.texts_to_sequences(df['Review'])\n",
    "max_sequence_length2 = max([len(seq) for seq in sequences])\n",
    "max_sequence_length = max(max_sequence_length1,max_sequence_length2)\n",
    "X_r = pad_sequences(sequences, maxlen=max_sequence_length2)\n"
   ]
  },
  {
   "cell_type": "code",
   "execution_count": 9,
   "id": "13e8e028-6f51-4605-a0e3-d116900350d2",
   "metadata": {
    "tags": []
   },
   "outputs": [],
   "source": [
    "X = np.expand_dims(X_s, axis=2) * np.expand_dims(X_r, axis=1)\n",
    "y = np.array(df['Rate'].astype(int))\n",
    "y = np.where(y > 2, 1, 0)\n",
    "X = X[:10000,:]\n",
    "y = y[:10000]"
   ]
  },
  {
   "cell_type": "code",
   "execution_count": 10,
   "id": "7fb26847-e837-4dae-904b-b6663d90d6b3",
   "metadata": {},
   "outputs": [
    {
     "data": {
      "text/plain": [
       "108"
      ]
     },
     "execution_count": 10,
     "metadata": {},
     "output_type": "execute_result"
    }
   ],
   "source": [
    "X.shape[1]"
   ]
  },
  {
   "cell_type": "code",
   "execution_count": 14,
   "id": "e2145716-5334-443e-bece-d08255365e7c",
   "metadata": {
    "tags": []
   },
   "outputs": [
    {
     "name": "stdout",
     "output_type": "stream",
     "text": [
      "Epoch 1/10\n",
      "63/63 [==============================] - 34s 480ms/step - loss: 74808.5469 - accuracy: 0.6739 - val_loss: 464.6216 - val_accuracy: 0.8360\n",
      "Epoch 2/10\n",
      "63/63 [==============================] - 31s 491ms/step - loss: 12240.4268 - accuracy: 0.7738 - val_loss: 104.8510 - val_accuracy: 0.8005\n",
      "Epoch 3/10\n",
      "63/63 [==============================] - 31s 489ms/step - loss: 380.5007 - accuracy: 0.7788 - val_loss: 144.2745 - val_accuracy: 0.8340\n",
      "Epoch 4/10\n",
      "63/63 [==============================] - 31s 488ms/step - loss: 298.5364 - accuracy: 0.7999 - val_loss: 63.4962 - val_accuracy: 0.7975\n",
      "Epoch 5/10\n",
      "63/63 [==============================] - 31s 490ms/step - loss: 310.5315 - accuracy: 0.7989 - val_loss: 120.0670 - val_accuracy: 0.7920\n",
      "Epoch 6/10\n",
      "63/63 [==============================] - 30s 484ms/step - loss: 156.8911 - accuracy: 0.8058 - val_loss: 118.1702 - val_accuracy: 0.8095\n",
      "Epoch 7/10\n",
      "63/63 [==============================] - 31s 490ms/step - loss: 263.3904 - accuracy: 0.7878 - val_loss: 103.2607 - val_accuracy: 0.8045\n",
      "Epoch 8/10\n",
      "63/63 [==============================] - 31s 487ms/step - loss: 269.0117 - accuracy: 0.7651 - val_loss: 276.4694 - val_accuracy: 0.7500\n",
      "Epoch 9/10\n",
      "63/63 [==============================] - 28s 452ms/step - loss: 351.4064 - accuracy: 0.7225 - val_loss: 694.4687 - val_accuracy: 0.7275\n",
      "Epoch 10/10\n",
      "63/63 [==============================] - 30s 472ms/step - loss: 232.6679 - accuracy: 0.7675 - val_loss: 894.3329 - val_accuracy: 0.7540\n",
      "63/63 [==============================] - 4s 55ms/step - loss: 894.3329 - accuracy: 0.7540\n",
      "Loss: 894.3329467773438\n",
      "Accuracy: 0.7540000081062317\n"
     ]
    }
   ],
   "source": [
    "from sklearn.model_selection import train_test_split\n",
    "from tensorflow.keras.models import Sequential\n",
    "from tensorflow.keras.layers import Embedding, LSTM, Dense, Bidirectional, Dropout\n",
    "\n",
    "X_train, X_test, y_train, y_test = train_test_split(X, y, test_size=0.2, random_state=42)\n",
    "\n",
    "model = Sequential()\n",
    "model.add(LSTM(128, input_shape=(X.shape[1:]), activation='relu'))\n",
    "model.add(Dense(128, activation='relu'))\n",
    "model.add(Dense(64, activation='elu'))\n",
    "model.add(Dense(32, activation='elu'))\n",
    "model.add(Dense(12, activation='relu'))\n",
    "model.add(Dense(1, activation='sigmoid'))\n",
    "model.compile(loss='binary_crossentropy', optimizer='adam', metrics=['accuracy'])\n",
    "model.fit(X_train, y_train, validation_data=(X_test, y_test), epochs=10, batch_size=128)\n",
    "\n",
    "\n",
    "loss, accuracy = model.evaluate(X_test, y_test)\n",
    "print(\"Loss:\", loss)\n",
    "print(\"Accuracy:\", accuracy)"
   ]
  },
  {
   "cell_type": "code",
   "execution_count": 20,
   "id": "903b2655-50ce-430a-adcb-cf5d338be549",
   "metadata": {
    "tags": []
   },
   "outputs": [],
   "source": [
    "model.save('resources/lstm.h5')"
   ]
  },
  {
   "cell_type": "code",
   "execution_count": 21,
   "id": "e3b6dcfb-c58e-41a0-bd75-8e5515a3c34c",
   "metadata": {
    "tags": []
   },
   "outputs": [],
   "source": [
    "from keras.models import load_model\n",
    "model = load_model('resources/lstm.h5')"
   ]
  },
  {
   "cell_type": "code",
   "execution_count": 37,
   "id": "8afced93-eeb5-44c9-b215-4b6388b55cd2",
   "metadata": {
    "tags": []
   },
   "outputs": [],
   "source": [
    "new_texts = [['Good', 'Very nice'],['Worst experience','Poar quality plastic material is not good.']]\n",
    "summary = [sublist[1] for sublist in new_texts]\n",
    "review = [sublist[0] for sublist in new_texts]"
   ]
  },
  {
   "cell_type": "code",
   "execution_count": 38,
   "id": "3e82e064-8dac-4503-b7be-c55823f6fb99",
   "metadata": {
    "tags": []
   },
   "outputs": [],
   "source": [
    "\n",
    "new_sequenceXs = tokenizer.texts_to_sequences(summary)\n",
    "new_sequenceXr = tokenizer.texts_to_sequences(review)\n",
    "new_Xs = pad_sequences(new_sequenceXs, maxlen=108)\n",
    "new_Xr = pad_sequences(new_sequenceXr, maxlen=24)\n",
    "tests = np.expand_dims(new_Xs, axis=2) * np.expand_dims(new_Xr, axis=1)"
   ]
  },
  {
   "cell_type": "code",
   "execution_count": 39,
   "id": "0d6fb17c-3de2-4a9a-96d5-dbe2ce7b035c",
   "metadata": {
    "tags": []
   },
   "outputs": [
    {
     "name": "stdout",
     "output_type": "stream",
     "text": [
      "1/1 [==============================] - 0s 29ms/step\n",
      "Review: Good\n",
      "Summary: Very nice\n",
      "Sentiment: Positive\n",
      "Review: Worst experience\n",
      "Summary: Poar quality plastic material is not good.\n",
      "Sentiment: Negative\n"
     ]
    }
   ],
   "source": [
    "predictions = model.predict(tests)\n",
    "for text, prediction in zip(new_texts, predictions):\n",
    "    sentiment = 'Positive' if prediction >= 0.5 else 'Negative'\n",
    "    print(\"Review:\", text[0])\n",
    "    print(\"Summary:\", text[1])\n",
    "    print(\"Sentiment:\", sentiment)\n"
   ]
  },
  {
   "cell_type": "code",
   "execution_count": 12,
   "id": "bea7a70e-e8ef-438a-82d2-bd84faacc343",
   "metadata": {
    "tags": []
   },
   "outputs": [],
   "source": [
    "# from sklearn.preprocessing import OneHotEncoder\n",
    "# import numpy as np\n",
    "\n",
    "# encoder = OneHotEncoder(sparse_output=False)\n",
    "\n",
    "# X = encoder.fit_transform(X)\n",
    "# X = X.reshape(-1, 1)\n"
   ]
  },
  {
   "cell_type": "code",
   "execution_count": 13,
   "id": "b9dc70d3-ede9-4d06-9b10-9adcfc1c17b5",
   "metadata": {
    "tags": []
   },
   "outputs": [],
   "source": [
    "# from sklearn.feature_extraction.text import TfidfVectorizer\n",
    "# import numpy as np\n",
    "# import re\n",
    "# v = TfidfVectorizer()\n",
    "# X_flat = X.ravel()\n",
    "# X_tfidf = v.fit_transform(X_flat)\n",
    "# y_int = y.astype(int)\n"
   ]
  },
  {
   "cell_type": "markdown",
   "id": "0d9d7348-a929-4d1f-8725-c0e9ad0a37bd",
   "metadata": {},
   "source": [
    "###### "
   ]
  }
 ],
 "metadata": {
  "kernelspec": {
   "display_name": "Python 3 (ipykernel)",
   "language": "python",
   "name": "python3"
  },
  "language_info": {
   "codemirror_mode": {
    "name": "ipython",
    "version": 3
   },
   "file_extension": ".py",
   "mimetype": "text/x-python",
   "name": "python",
   "nbconvert_exporter": "python",
   "pygments_lexer": "ipython3",
   "version": "3.10.6"
  }
 },
 "nbformat": 4,
 "nbformat_minor": 5
}
