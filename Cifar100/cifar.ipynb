{
 "cells": [
  {
   "cell_type": "code",
   "execution_count": 1,
   "id": "901a02e8-f7cb-4853-a8c8-5fcc1c9f53fd",
   "metadata": {
    "tags": []
   },
   "outputs": [],
   "source": [
    "from numpy import unique, argmax\n",
    "from keras.datasets.mnist import load_data\n",
    "from keras import Sequential\n",
    "from keras.layers import Conv2D\n",
    "from keras.layers import MaxPool2D\n",
    "from keras.layers import Dense\n",
    "from keras.layers import Flatten\n",
    "from keras.layers import Dropout\n",
    "from keras.utils import plot_model\n",
    "from matplotlib import pyplot\n",
    "import matplotlib.pyplot as plt\n",
    "import numpy as np\n",
    "import pickle"
   ]
  },
  {
   "cell_type": "code",
   "execution_count": 2,
   "id": "c9269225-77c4-4903-9cfd-d7625717532e",
   "metadata": {
    "tags": []
   },
   "outputs": [],
   "source": [
    "def unpickle(file):\n",
    "    with open(file, 'rb') as fo:\n",
    "        dict = pickle.load(fo, encoding='bytes')\n",
    "    return dict"
   ]
  },
  {
   "cell_type": "code",
   "execution_count": 3,
   "id": "8c778a66-9c8d-46d5-8d1c-3a7c6d1a4979",
   "metadata": {
    "tags": []
   },
   "outputs": [],
   "source": [
    "batch_train = unpickle('CIFAR/train')\n",
    "x_train = batch_train[b'data']\n",
    "y_train = batch_train[b'fine_labels']"
   ]
  },
  {
   "cell_type": "code",
   "execution_count": 4,
   "id": "38c7ca44-3f2f-4e39-a248-c3176ab75f49",
   "metadata": {
    "tags": []
   },
   "outputs": [],
   "source": [
    "batch_test = unpickle('CIFAR/test')\n",
    "\n",
    "x_test = batch_test[b'data']\n",
    "x_testR = x_test\n",
    "y_test = batch_test[b'fine_labels']"
   ]
  },
  {
   "cell_type": "code",
   "execution_count": 5,
   "id": "3ce91632-4399-4f76-af64-6f438c77e48c",
   "metadata": {
    "tags": []
   },
   "outputs": [
    {
     "data": {
      "text/plain": [
       "(50000, 3072)"
      ]
     },
     "execution_count": 5,
     "metadata": {},
     "output_type": "execute_result"
    }
   ],
   "source": [
    "x_train.shape"
   ]
  },
  {
   "cell_type": "code",
   "execution_count": 6,
   "id": "90430a21-f112-46b8-9c65-9523b06b2a52",
   "metadata": {
    "tags": []
   },
   "outputs": [],
   "source": [
    "x_train = np.reshape(x_train, (-1, 3, 32, 32)).transpose(0, 2, 3, 1)\n",
    "x_test = np.reshape(x_train, (-1, 3, 32, 32)).transpose(0, 2, 3, 1)"
   ]
  },
  {
   "cell_type": "code",
   "execution_count": 7,
   "id": "98775a57-fbce-43c6-b0cb-e8c13526475f",
   "metadata": {
    "tags": []
   },
   "outputs": [
    {
     "data": {
      "text/plain": [
       "(50000, 32, 32, 3)"
      ]
     },
     "execution_count": 7,
     "metadata": {},
     "output_type": "execute_result"
    }
   ],
   "source": [
    "x_train.shape"
   ]
  },
  {
   "cell_type": "code",
   "execution_count": 8,
   "id": "faa14621-cd4f-4829-a3ba-8edab92aab0e",
   "metadata": {
    "tags": []
   },
   "outputs": [],
   "source": [
    "y_train = np.array(y_train)\n",
    "y_test = np.array(y_test)\n"
   ]
  },
  {
   "cell_type": "code",
   "execution_count": 9,
   "id": "20d529b5-156a-4931-84ae-58ae60e70fee",
   "metadata": {
    "tags": []
   },
   "outputs": [],
   "source": [
    "x_train= x_train / 255\n",
    "x_test = x_test /255"
   ]
  },
  {
   "cell_type": "code",
   "execution_count": 18,
   "id": "c68fe431-3b7d-49b4-9507-5f625184ad4b",
   "metadata": {
    "tags": []
   },
   "outputs": [],
   "source": [
    "model = Sequential()\n",
    "model.add(Conv2D(64, (3,3), activation='relu', input_shape=(32,32,3)))\n",
    "\n",
    "model.add(MaxPool2D((2, 2)))\n",
    "model.add(Flatten())\n",
    "model.add(Dense(1200, activation='relu'))\n",
    "model.add(Dense(100, activation='softmax'))"
   ]
  },
  {
   "cell_type": "code",
   "execution_count": 19,
   "id": "43bc7b86-88ab-4a12-9179-d4384117761e",
   "metadata": {
    "tags": []
   },
   "outputs": [
    {
     "name": "stdout",
     "output_type": "stream",
     "text": [
      "352/352 [==============================] - 116s 326ms/step - loss: 3.5981 - accuracy: 0.1730 - val_loss: 3.0798 - val_accuracy: 0.2608\n"
     ]
    },
    {
     "data": {
      "text/plain": [
       "<keras.callbacks.History at 0x26e1359c100>"
      ]
     },
     "execution_count": 19,
     "metadata": {},
     "output_type": "execute_result"
    }
   ],
   "source": [
    "model.compile(optimizer='adam', loss='sparse_categorical_crossentropy', metrics=['accuracy'])\n",
    "model.fit(x_train, y_train, epochs=1, batch_size=128, validation_split=0.1)"
   ]
  },
  {
   "cell_type": "code",
   "execution_count": 14,
   "id": "ecf83687-1c75-4f62-bcb9-b5b028e30749",
   "metadata": {
    "tags": []
   },
   "outputs": [],
   "source": [
    "model.save('resources/cifar100.h5')"
   ]
  },
  {
   "cell_type": "code",
   "execution_count": 21,
   "id": "29c4acc0-69af-4b88-94e4-59b39842d77a",
   "metadata": {},
   "outputs": [],
   "source": [
    "fine_labels = np.array([\n",
    "    'apple', 'aquarium_fish', 'baby', 'bear', 'beaver', 'bed', 'bee', 'beetle', 'bicycle', 'bottle',\n",
    "    'bowl', 'boy', 'bridge', 'bus', 'butterfly', 'camel', 'can', 'castle', 'caterpillar', 'cattle',\n",
    "    'chair', 'chimpanzee', 'clock', 'cloud', 'cockroach', 'couch', 'crab', 'crocodile', 'cup',\n",
    "    'dinosaur', 'dolphin', 'elephant', 'flatfish', 'forest', 'fox', 'girl', 'hamster', 'house',\n",
    "    'kangaroo', 'keyboard', 'lamp', 'lawn_mower', 'leopard', 'lion', 'lizard', 'lobster', 'man',\n",
    "    'maple_tree', 'motorcycle', 'mountain', 'mouse', 'mushroom', 'oak_tree', 'orange', 'orchid',\n",
    "    'otter', 'palm_tree', 'pear', 'pickup_truck', 'pine_tree', 'plain', 'plate', 'poppy', 'porcupine',\n",
    "    'possum', 'rabbit', 'raccoon', 'ray', 'road', 'rocket', 'rose', 'sea', 'seal', 'shark', 'shrew',\n",
    "    'skunk', 'skyscraper', 'snail', 'snake', 'spider', 'squirrel', 'streetcar', 'sunflower',\n",
    "    'sweet_pepper', 'table', 'tank', 'telephone', 'television', 'tiger', 'tractor', 'train', 'trout',\n",
    "    'tulip', 'turtle', 'wardrobe', 'whale', 'willow_tree', 'wolf', 'woman', 'worm'\n",
    "])"
   ]
  },
  {
   "cell_type": "code",
   "execution_count": 31,
   "id": "14416a55-6832-463b-a5a3-61dbeac85737",
   "metadata": {
    "tags": []
   },
   "outputs": [
    {
     "name": "stdout",
     "output_type": "stream",
     "text": [
      "1/1 [==============================] - 0s 36ms/step\n",
      "Predicted: chair\n"
     ]
    },
    {
     "data": {
      "image/png": "[encoded data removed]",
      "text/plain": [
       "<Figure size 640x480 with 1 Axes>"
      ]
     },
     "metadata": {},
     "output_type": "display_data"
    }
   ],
   "source": [
    "x = batch_test[b'data']\n",
    "x = np.reshape(x, (-1, 3, 32, 32)).transpose(0, 2, 3, 1)\n",
    "image = x[206]\n",
    "\n",
    "plt.imshow(np.squeeze(image))\n",
    "\n",
    "image= image.reshape(1,image.shape[0],image.shape[1],image.shape[2])\n",
    "\n",
    "yhat = model.predict([image])\n",
    "i = int(argmax(yhat))\n",
    "print('Predicted: {}'.format(fine_labels[i]))"
   ]
  },
  {
   "cell_type": "code",
   "execution_count": null,
   "id": "49531e11-3bcd-4393-820f-3987a5a8f0a6",
   "metadata": {},
   "outputs": [],
   "source": []
  },
  {
   "cell_type": "code",
   "execution_count": null,
   "id": "ce3df78e-0253-4470-8e27-67822d14faff",
   "metadata": {},
   "outputs": [],
   "source": []
  },
  {
   "cell_type": "code",
   "execution_count": null,
   "id": "3d85290f-8635-4276-8ff1-b8669c9c483f",
   "metadata": {},
   "outputs": [],
   "source": []
  }
 ],
 "metadata": {
  "kernelspec": {
   "display_name": "Python 3 (ipykernel)",
   "language": "python",
   "name": "python3"
  },
  "language_info": {
   "codemirror_mode": {
    "name": "ipython",
    "version": 3
   },
   "file_extension": ".py",
   "mimetype": "text/x-python",
   "name": "python",
   "nbconvert_exporter": "python",
   "pygments_lexer": "ipython3",
   "version": "3.10.6"
  }
 },
 "nbformat": 4,
 "nbformat_minor": 5
}
