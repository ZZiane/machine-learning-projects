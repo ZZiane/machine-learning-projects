{
 "cells": [
  {
   "cell_type": "code",
   "execution_count": 1,
   "id": "f0b81aeb-31eb-4994-a00d-0f757e11d6e7",
   "metadata": {
    "tags": []
   },
   "outputs": [],
   "source": [
    "from datetime import date, timedelta\n",
    "from sklearn.model_selection import train_test_split\n",
    "from keras.models import Sequential\n",
    "from keras.layers import Dense, LSTM\n",
    "import numpy as np\n"
   ]
  },
  {
   "cell_type": "code",
   "execution_count": 2,
   "id": "2910c1cd-4741-4ceb-b352-c31d3014c565",
   "metadata": {
    "tags": []
   },
   "outputs": [
    {
     "data": {
      "text/plain": [
       "0      2016-06-14\n",
       "1      2016-06-15\n",
       "2      2016-06-16\n",
       "3      2016-06-17\n",
       "4      2016-06-20\n",
       "          ...    \n",
       "1253   2021-06-07\n",
       "1254   2021-06-08\n",
       "1255   2021-06-09\n",
       "1256   2021-06-10\n",
       "1257   2021-06-11\n",
       "Name: date, Length: 1258, dtype: datetime64[ns]"
      ]
     },
     "execution_count": 2,
     "metadata": {},
     "output_type": "execute_result"
    }
   ],
   "source": [
    "import pandas as pd\n",
    "data = pd.read_csv('GOOG.csv')\n",
    "data['date'] = data['date'].astype('datetime64')\n",
    "data['date']"
   ]
  },
  {
   "cell_type": "code",
   "execution_count": 3,
   "id": "20642920-f9eb-4428-ba86-b3fafe5a5d1f",
   "metadata": {
    "tags": []
   },
   "outputs": [
    {
     "data": {
      "text/plain": [
       "0       1.465862e+09\n",
       "1       1.465949e+09\n",
       "2       1.466035e+09\n",
       "3       1.466122e+09\n",
       "4       1.466381e+09\n",
       "            ...     \n",
       "1253    1.623024e+09\n",
       "1254    1.623110e+09\n",
       "1255    1.623197e+09\n",
       "1256    1.623283e+09\n",
       "1257    1.623370e+09\n",
       "Name: date, Length: 1258, dtype: float64"
      ]
     },
     "execution_count": 3,
     "metadata": {},
     "output_type": "execute_result"
    }
   ],
   "source": [
    "from datetime import datetime\n",
    "\n",
    "data['date'] = [date.timestamp() for date in data['date']]\n",
    "data['date']"
   ]
  },
  {
   "cell_type": "code",
   "execution_count": 4,
   "id": "c7160972-6f29-4ab8-96b5-77bef34556a4",
   "metadata": {},
   "outputs": [],
   "source": [
    "x = data[[\"date\",\"open\", \"high\", \"low\", \"volume\"]].to_numpy()\n",
    "y = data[\"close\"].to_numpy()\n",
    "y = y.reshape(-1, 1)\n"
   ]
  },
  {
   "cell_type": "code",
   "execution_count": 5,
   "id": "6ed19619-3d44-4299-9063-56bde2e35faa",
   "metadata": {},
   "outputs": [],
   "source": [
    "from sklearn.preprocessing import StandardScaler\n",
    "sc = StandardScaler()\n",
    "X = sc.fit_transform(x)\n",
    "xtrain, xtest, ytrain, ytest = train_test_split(X, y, test_size=0.2 , random_state=42)\n"
   ]
  },
  {
   "cell_type": "code",
   "execution_count": 6,
   "id": "46164068-8b7b-4443-8803-c8c2f1c83e4b",
   "metadata": {
    "tags": []
   },
   "outputs": [
    {
     "name": "stdout",
     "output_type": "stream",
     "text": [
      "Epoch 1/100\n",
      "101/101 [==============================] - 2s 3ms/step - loss: 855351.0625 - mae: 759.9120\n",
      "Epoch 2/100\n",
      "101/101 [==============================] - 0s 3ms/step - loss: 46215.4336 - mae: 133.5179\n",
      "Epoch 3/100\n",
      "101/101 [==============================] - 0s 3ms/step - loss: 7653.8481 - mae: 66.6014\n",
      "Epoch 4/100\n",
      "101/101 [==============================] - 0s 3ms/step - loss: 3980.8970 - mae: 49.5274\n",
      "Epoch 5/100\n",
      "101/101 [==============================] - 0s 3ms/step - loss: 1993.0248 - mae: 35.1510\n",
      "Epoch 6/100\n",
      "101/101 [==============================] - 0s 3ms/step - loss: 1420.5693 - mae: 29.8749\n",
      "Epoch 7/100\n",
      "101/101 [==============================] - 0s 3ms/step - loss: 913.1190 - mae: 23.9656\n",
      "Epoch 8/100\n",
      "101/101 [==============================] - 0s 3ms/step - loss: 759.8545 - mae: 21.9316\n",
      "Epoch 9/100\n",
      "101/101 [==============================] - 0s 3ms/step - loss: 769.7305 - mae: 21.8113\n",
      "Epoch 10/100\n",
      "101/101 [==============================] - 0s 3ms/step - loss: 636.6103 - mae: 20.1403\n",
      "Epoch 11/100\n",
      "101/101 [==============================] - 0s 3ms/step - loss: 615.3746 - mae: 19.7854\n",
      "Epoch 12/100\n",
      "101/101 [==============================] - 0s 4ms/step - loss: 565.2186 - mae: 18.9430\n",
      "Epoch 13/100\n",
      "101/101 [==============================] - 0s 3ms/step - loss: 441.4661 - mae: 16.3523\n",
      "Epoch 14/100\n",
      "101/101 [==============================] - 0s 3ms/step - loss: 408.4645 - mae: 15.8647\n",
      "Epoch 15/100\n",
      "101/101 [==============================] - 0s 3ms/step - loss: 508.0752 - mae: 17.3689\n",
      "Epoch 16/100\n",
      "101/101 [==============================] - 0s 3ms/step - loss: 429.7321 - mae: 15.9764\n",
      "Epoch 17/100\n",
      "101/101 [==============================] - 0s 3ms/step - loss: 340.1620 - mae: 14.2579\n",
      "Epoch 18/100\n",
      "101/101 [==============================] - 0s 4ms/step - loss: 366.8656 - mae: 14.7681\n",
      "Epoch 19/100\n",
      "101/101 [==============================] - 0s 4ms/step - loss: 310.2941 - mae: 13.3807\n",
      "Epoch 20/100\n",
      "101/101 [==============================] - 0s 3ms/step - loss: 388.8534 - mae: 15.2216\n",
      "Epoch 21/100\n",
      "101/101 [==============================] - 0s 4ms/step - loss: 277.7302 - mae: 12.7784\n",
      "Epoch 22/100\n",
      "101/101 [==============================] - 1s 5ms/step - loss: 226.1597 - mae: 11.3004\n",
      "Epoch 23/100\n",
      "101/101 [==============================] - 1s 5ms/step - loss: 295.1796 - mae: 13.2346\n",
      "Epoch 24/100\n",
      "101/101 [==============================] - 1s 5ms/step - loss: 267.6436 - mae: 12.7343\n",
      "Epoch 25/100\n",
      "101/101 [==============================] - 1s 5ms/step - loss: 311.7674 - mae: 13.9111\n",
      "Epoch 26/100\n",
      "101/101 [==============================] - 1s 5ms/step - loss: 419.1032 - mae: 15.3908\n",
      "Epoch 27/100\n",
      "101/101 [==============================] - 1s 5ms/step - loss: 325.6454 - mae: 13.5638\n",
      "Epoch 28/100\n",
      "101/101 [==============================] - 1s 5ms/step - loss: 253.3783 - mae: 12.3386\n",
      "Epoch 29/100\n",
      "101/101 [==============================] - 1s 5ms/step - loss: 234.2410 - mae: 11.6836\n",
      "Epoch 30/100\n",
      "101/101 [==============================] - 1s 5ms/step - loss: 238.6167 - mae: 11.6342\n",
      "Epoch 31/100\n",
      "101/101 [==============================] - 1s 5ms/step - loss: 251.7601 - mae: 12.0875\n",
      "Epoch 32/100\n",
      "101/101 [==============================] - 1s 5ms/step - loss: 441.0195 - mae: 16.2112\n",
      "Epoch 33/100\n",
      "101/101 [==============================] - 1s 5ms/step - loss: 267.8771 - mae: 12.1183\n",
      "Epoch 34/100\n",
      "101/101 [==============================] - 1s 6ms/step - loss: 461.3204 - mae: 15.9929\n",
      "Epoch 35/100\n",
      "101/101 [==============================] - 1s 5ms/step - loss: 339.4019 - mae: 13.8440\n",
      "Epoch 36/100\n",
      "101/101 [==============================] - 1s 5ms/step - loss: 317.7468 - mae: 13.6822\n",
      "Epoch 37/100\n",
      "101/101 [==============================] - 1s 5ms/step - loss: 203.9033 - mae: 10.8163\n",
      "Epoch 38/100\n",
      "101/101 [==============================] - 1s 6ms/step - loss: 455.1537 - mae: 15.9555\n",
      "Epoch 39/100\n",
      "101/101 [==============================] - 1s 5ms/step - loss: 348.0571 - mae: 14.0698\n",
      "Epoch 40/100\n",
      "101/101 [==============================] - 1s 5ms/step - loss: 292.8237 - mae: 13.1816\n",
      "Epoch 41/100\n",
      "101/101 [==============================] - 1s 5ms/step - loss: 376.7480 - mae: 14.4396\n",
      "Epoch 42/100\n",
      "101/101 [==============================] - 1s 5ms/step - loss: 271.9155 - mae: 12.4025\n",
      "Epoch 43/100\n",
      "101/101 [==============================] - 1s 5ms/step - loss: 298.2407 - mae: 13.3193\n",
      "Epoch 44/100\n",
      "101/101 [==============================] - 1s 5ms/step - loss: 211.8471 - mae: 10.8392\n",
      "Epoch 45/100\n",
      "101/101 [==============================] - 1s 5ms/step - loss: 198.2047 - mae: 10.7654\n",
      "Epoch 46/100\n",
      "101/101 [==============================] - 1s 5ms/step - loss: 194.9050 - mae: 10.5645\n",
      "Epoch 47/100\n",
      "101/101 [==============================] - 1s 5ms/step - loss: 204.2747 - mae: 10.8981\n",
      "Epoch 48/100\n",
      "101/101 [==============================] - 1s 5ms/step - loss: 242.1457 - mae: 11.4459\n",
      "Epoch 49/100\n",
      "101/101 [==============================] - 1s 6ms/step - loss: 377.0698 - mae: 14.3218\n",
      "Epoch 50/100\n",
      "101/101 [==============================] - 1s 5ms/step - loss: 444.1532 - mae: 15.8885\n",
      "Epoch 51/100\n",
      "101/101 [==============================] - 1s 5ms/step - loss: 208.4714 - mae: 10.7250\n",
      "Epoch 52/100\n",
      "101/101 [==============================] - 1s 5ms/step - loss: 225.4934 - mae: 11.3575\n",
      "Epoch 53/100\n",
      "101/101 [==============================] - 1s 5ms/step - loss: 168.6968 - mae: 9.7432\n",
      "Epoch 54/100\n",
      "101/101 [==============================] - 1s 5ms/step - loss: 170.1744 - mae: 9.8036\n",
      "Epoch 55/100\n",
      "101/101 [==============================] - 1s 5ms/step - loss: 173.3314 - mae: 9.9881\n",
      "Epoch 56/100\n",
      "101/101 [==============================] - 0s 5ms/step - loss: 222.4210 - mae: 11.1362\n",
      "Epoch 57/100\n",
      "101/101 [==============================] - 1s 5ms/step - loss: 182.5780 - mae: 10.2052\n",
      "Epoch 58/100\n",
      "101/101 [==============================] - 0s 5ms/step - loss: 235.6400 - mae: 11.4640\n",
      "Epoch 59/100\n",
      "101/101 [==============================] - 1s 6ms/step - loss: 238.9108 - mae: 11.5878\n",
      "Epoch 60/100\n",
      "101/101 [==============================] - 1s 5ms/step - loss: 215.8385 - mae: 11.0052\n",
      "Epoch 61/100\n",
      "101/101 [==============================] - 1s 5ms/step - loss: 189.1259 - mae: 10.4511\n",
      "Epoch 62/100\n",
      "101/101 [==============================] - 1s 5ms/step - loss: 164.7306 - mae: 9.5383\n",
      "Epoch 63/100\n",
      "101/101 [==============================] - 1s 6ms/step - loss: 207.1044 - mae: 10.8930\n",
      "Epoch 64/100\n",
      "101/101 [==============================] - 1s 6ms/step - loss: 202.8561 - mae: 10.5010\n",
      "Epoch 65/100\n",
      "101/101 [==============================] - 1s 6ms/step - loss: 387.6848 - mae: 15.4571\n",
      "Epoch 66/100\n",
      "101/101 [==============================] - 1s 6ms/step - loss: 152.7888 - mae: 9.5352\n",
      "Epoch 67/100\n",
      "101/101 [==============================] - 1s 7ms/step - loss: 250.6777 - mae: 12.0145\n",
      "Epoch 68/100\n",
      "101/101 [==============================] - 1s 6ms/step - loss: 160.8971 - mae: 9.5550\n",
      "Epoch 69/100\n",
      "101/101 [==============================] - 1s 6ms/step - loss: 260.0525 - mae: 12.3889\n",
      "Epoch 70/100\n",
      "101/101 [==============================] - 1s 6ms/step - loss: 271.1825 - mae: 12.7228\n",
      "Epoch 71/100\n",
      "101/101 [==============================] - 1s 6ms/step - loss: 247.7560 - mae: 11.9656\n",
      "Epoch 72/100\n",
      "101/101 [==============================] - 1s 6ms/step - loss: 189.5791 - mae: 10.3079\n",
      "Epoch 73/100\n",
      "101/101 [==============================] - 1s 5ms/step - loss: 170.9599 - mae: 9.9363\n",
      "Epoch 74/100\n",
      "101/101 [==============================] - 1s 6ms/step - loss: 181.4908 - mae: 10.1931\n",
      "Epoch 75/100\n",
      "101/101 [==============================] - 1s 5ms/step - loss: 447.1225 - mae: 15.5758\n",
      "Epoch 76/100\n",
      "101/101 [==============================] - 1s 6ms/step - loss: 426.7156 - mae: 14.8211\n",
      "Epoch 77/100\n",
      "101/101 [==============================] - 1s 6ms/step - loss: 208.7284 - mae: 11.0839\n",
      "Epoch 78/100\n",
      "101/101 [==============================] - 1s 6ms/step - loss: 139.8113 - mae: 8.8885\n",
      "Epoch 79/100\n",
      "101/101 [==============================] - 1s 6ms/step - loss: 247.8565 - mae: 12.0088\n",
      "Epoch 80/100\n",
      "101/101 [==============================] - 1s 7ms/step - loss: 478.2058 - mae: 15.9501\n",
      "Epoch 81/100\n",
      "101/101 [==============================] - 1s 5ms/step - loss: 314.4076 - mae: 13.4595\n",
      "Epoch 82/100\n",
      "101/101 [==============================] - 1s 6ms/step - loss: 252.1109 - mae: 11.5974\n",
      "Epoch 83/100\n",
      "101/101 [==============================] - 1s 5ms/step - loss: 173.0466 - mae: 9.8903\n",
      "Epoch 84/100\n",
      "101/101 [==============================] - 1s 5ms/step - loss: 161.6715 - mae: 9.4042\n",
      "Epoch 85/100\n",
      "101/101 [==============================] - 1s 6ms/step - loss: 136.2423 - mae: 8.6703\n",
      "Epoch 86/100\n",
      "101/101 [==============================] - 1s 6ms/step - loss: 158.3535 - mae: 9.3100\n",
      "Epoch 87/100\n",
      "101/101 [==============================] - 1s 5ms/step - loss: 223.3913 - mae: 11.5495\n",
      "Epoch 88/100\n",
      "101/101 [==============================] - 1s 5ms/step - loss: 171.2408 - mae: 9.9852\n",
      "Epoch 89/100\n",
      "101/101 [==============================] - 0s 5ms/step - loss: 266.6034 - mae: 12.2675\n",
      "Epoch 90/100\n",
      "101/101 [==============================] - 1s 6ms/step - loss: 141.3979 - mae: 8.9745\n",
      "Epoch 91/100\n",
      "101/101 [==============================] - 1s 5ms/step - loss: 130.2166 - mae: 8.2304\n",
      "Epoch 92/100\n",
      "101/101 [==============================] - 0s 5ms/step - loss: 159.8651 - mae: 9.4644\n",
      "Epoch 93/100\n",
      "101/101 [==============================] - 0s 5ms/step - loss: 237.7832 - mae: 12.1234\n",
      "Epoch 94/100\n",
      "101/101 [==============================] - 0s 5ms/step - loss: 337.6427 - mae: 13.3447\n",
      "Epoch 95/100\n",
      "101/101 [==============================] - 1s 5ms/step - loss: 135.5205 - mae: 8.7429\n",
      "Epoch 96/100\n",
      "101/101 [==============================] - 1s 7ms/step - loss: 230.2316 - mae: 11.2336\n",
      "Epoch 97/100\n",
      "101/101 [==============================] - 1s 7ms/step - loss: 340.6481 - mae: 13.2727\n",
      "Epoch 98/100\n",
      "101/101 [==============================] - 1s 7ms/step - loss: 330.5864 - mae: 13.8165\n",
      "Epoch 99/100\n",
      "101/101 [==============================] - 1s 8ms/step - loss: 161.2117 - mae: 9.4612\n",
      "Epoch 100/100\n",
      "101/101 [==============================] - 1s 7ms/step - loss: 153.3093 - mae: 9.2529\n"
     ]
    },
    {
     "data": {
      "text/plain": [
       "<keras.callbacks.History at 0x18c9fd3e620>"
      ]
     },
     "execution_count": 6,
     "metadata": {},
     "output_type": "execute_result"
    }
   ],
   "source": [
    "model = Sequential()\n",
    "model.add(LSTM(128,  input_shape= (xtrain.shape[1], 1)))\n",
    "model.add(Dense(64))\n",
    "model.add(Dense(32))\n",
    "model.add(Dense(12))\n",
    "model.add(Dense(1))\n",
    "model.compile(optimizer='adam', loss='mean_squared_error', metrics=['mae'])\n",
    "model.fit(xtrain, ytrain, batch_size=10, epochs=100)"
   ]
  },
  {
   "cell_type": "code",
   "execution_count": 7,
   "id": "0c0b3027-30d5-4947-8119-5ebbc4ccbbdd",
   "metadata": {},
   "outputs": [
    {
     "name": "stdout",
     "output_type": "stream",
     "text": [
      "8/8 [==============================] - 1s 3ms/step - loss: 200.0350 - mae: 11.3501\n",
      "Loss: [200.03504943847656, 11.350142478942871]\n"
     ]
    }
   ],
   "source": [
    "loss = model.evaluate(xtest, ytest)\n",
    "print(\"Loss:\", loss)\n"
   ]
  },
  {
   "cell_type": "code",
   "execution_count": 8,
   "id": "1629dedd-c37e-4f47-8c57-6dd0926da75d",
   "metadata": {
    "tags": []
   },
   "outputs": [
    {
     "name": "stdout",
     "output_type": "stream",
     "text": [
      "[1.4658624e+09 7.1648000e+02 7.2247000e+02 7.1312000e+02 1.3060650e+06] :::> [718.27]\n",
      "1/1 [==============================] - 0s 471ms/step\n",
      "{'prediction': [723.091552734375]}\n"
     ]
    }
   ],
   "source": [
    "print(str(x[0])+' :::> '+str(y[0]))\n",
    "features = np.array([X[0]])\n",
    "print({\"prediction\": (model.predict(features).tolist())[0]})"
   ]
  },
  {
   "cell_type": "code",
   "execution_count": null,
   "id": "6b293b9a-0c69-466f-8b5b-7e5079fff0ac",
   "metadata": {},
   "outputs": [],
   "source": []
  }
 ],
 "metadata": {
  "kernelspec": {
   "display_name": "Python 3 (ipykernel)",
   "language": "python",
   "name": "python3"
  },
  "language_info": {
   "codemirror_mode": {
    "name": "ipython",
    "version": 3
   },
   "file_extension": ".py",
   "mimetype": "text/x-python",
   "name": "python",
   "nbconvert_exporter": "python",
   "pygments_lexer": "ipython3",
   "version": "3.10.6"
  }
 },
 "nbformat": 4,
 "nbformat_minor": 5
}
